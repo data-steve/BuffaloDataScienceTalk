{
 "cells": [
  {
   "cell_type": "markdown",
   "metadata": {},
   "source": [
    "<h2>Intro to Text Analytics in Python</h2>"
   ]
  },
  {
   "cell_type": "markdown",
   "metadata": {},
   "source": [
    "# Sample of Musicians and their lyrics"
   ]
  },
  {
   "cell_type": "markdown",
   "metadata": {},
   "source": [
    "* dataset of song lyrics from 4 different artists (Beatles, Metallica, Eminem, Bob Dylan)\n",
    "* use 2 methods to model pattern in the lyrics\n",
    "* plot some of those patterns\n",
    "\n",
    "### Motivating Assumption: similar songs to be close together in pattern and plot"
   ]
  },
  {
   "cell_type": "markdown",
   "metadata": {},
   "source": [
    "![title](tfidf.png)"
   ]
  },
  {
   "cell_type": "markdown",
   "metadata": {},
   "source": [
    "## Look at the data"
   ]
  },
  {
   "cell_type": "code",
   "execution_count": 2,
   "metadata": {
    "scrolled": false
   },
   "outputs": [
    {
     "data": {
      "text/html": [
       "<div>\n",
       "<style scoped>\n",
       "    .dataframe tbody tr th:only-of-type {\n",
       "        vertical-align: middle;\n",
       "    }\n",
       "\n",
       "    .dataframe tbody tr th {\n",
       "        vertical-align: top;\n",
       "    }\n",
       "\n",
       "    .dataframe thead th {\n",
       "        text-align: right;\n",
       "    }\n",
       "</style>\n",
       "<table border=\"1\" class=\"dataframe\">\n",
       "  <thead>\n",
       "    <tr style=\"text-align: right;\">\n",
       "      <th></th>\n",
       "      <th>artist</th>\n",
       "      <th>song</th>\n",
       "      <th>lyrics</th>\n",
       "    </tr>\n",
       "  </thead>\n",
       "  <tbody>\n",
       "    <tr>\n",
       "      <th>0</th>\n",
       "      <td>Beatles</td>\n",
       "      <td>Help!</td>\n",
       "      <td>(When) When I was younger (When I was young) s...</td>\n",
       "    </tr>\n",
       "    <tr>\n",
       "      <th>1</th>\n",
       "      <td>Beatles</td>\n",
       "      <td>Ticket to Ride</td>\n",
       "      <td>I think I'm gonna be sad, I think it's today, ...</td>\n",
       "    </tr>\n",
       "    <tr>\n",
       "      <th>2</th>\n",
       "      <td>Beatles</td>\n",
       "      <td>A Hard Days Night</td>\n",
       "      <td>It's been a hard day's night, and I been worki...</td>\n",
       "    </tr>\n",
       "    <tr>\n",
       "      <th>3</th>\n",
       "      <td>Beatles</td>\n",
       "      <td>Cant Buy Me Love</td>\n",
       "      <td>Can't buy me love, love Can't buy me love I'll...</td>\n",
       "    </tr>\n",
       "    <tr>\n",
       "      <th>4</th>\n",
       "      <td>Beatles</td>\n",
       "      <td>Eleanor Rigby</td>\n",
       "      <td>Ah look at all the lonely people Ah look at al...</td>\n",
       "    </tr>\n",
       "    <tr>\n",
       "      <th>5</th>\n",
       "      <td>Beatles</td>\n",
       "      <td>I Want to Hold Your Hand</td>\n",
       "      <td>Oh yeah, I'll tell you something I think you'l...</td>\n",
       "    </tr>\n",
       "    <tr>\n",
       "      <th>6</th>\n",
       "      <td>Beatles</td>\n",
       "      <td>She Loves You</td>\n",
       "      <td>She loves you, yeah, yeah, yeah She loves you,...</td>\n",
       "    </tr>\n",
       "    <tr>\n",
       "      <th>7</th>\n",
       "      <td>Beatles</td>\n",
       "      <td>Yesterday</td>\n",
       "      <td>Yesterday all my troubles seemed so far away. ...</td>\n",
       "    </tr>\n",
       "    <tr>\n",
       "      <th>8</th>\n",
       "      <td>Metallica</td>\n",
       "      <td>Nothing Else Matters</td>\n",
       "      <td>So close no matter how far Couldn't be much mo...</td>\n",
       "    </tr>\n",
       "    <tr>\n",
       "      <th>9</th>\n",
       "      <td>Metallica</td>\n",
       "      <td>Enter Sandman</td>\n",
       "      <td>Say your prayers, little one Don't forget, my ...</td>\n",
       "    </tr>\n",
       "    <tr>\n",
       "      <th>10</th>\n",
       "      <td>Metallica</td>\n",
       "      <td>Master of Puppets</td>\n",
       "      <td>End of passion play, crumbling away I’m your s...</td>\n",
       "    </tr>\n",
       "    <tr>\n",
       "      <th>11</th>\n",
       "      <td>Metallica</td>\n",
       "      <td>The Unforgiven</td>\n",
       "      <td>New blood joins this earth, And quickly he's s...</td>\n",
       "    </tr>\n",
       "    <tr>\n",
       "      <th>12</th>\n",
       "      <td>Metallica</td>\n",
       "      <td>Fade to Black</td>\n",
       "      <td>Life, it seems, will fade away Drifting furthe...</td>\n",
       "    </tr>\n",
       "    <tr>\n",
       "      <th>13</th>\n",
       "      <td>Metallica</td>\n",
       "      <td>One</td>\n",
       "      <td>I can’t remember anything Can’t tell if this i...</td>\n",
       "    </tr>\n",
       "    <tr>\n",
       "      <th>14</th>\n",
       "      <td>Metallica</td>\n",
       "      <td>For Whom the Bell Tolls</td>\n",
       "      <td>Make his fight on the hill in the early day Co...</td>\n",
       "    </tr>\n",
       "    <tr>\n",
       "      <th>15</th>\n",
       "      <td>Eminem</td>\n",
       "      <td>The Real Slim Shady</td>\n",
       "      <td>May I have your attention please? May I have y...</td>\n",
       "    </tr>\n",
       "    <tr>\n",
       "      <th>16</th>\n",
       "      <td>Eminem</td>\n",
       "      <td>Till I Collapse</td>\n",
       "      <td>'Cause sometimes you just feel tired, Feel wea...</td>\n",
       "    </tr>\n",
       "    <tr>\n",
       "      <th>17</th>\n",
       "      <td>Eminem</td>\n",
       "      <td>Lose Yourself</td>\n",
       "      <td>Look, if you had, one shot, or one opportunity...</td>\n",
       "    </tr>\n",
       "    <tr>\n",
       "      <th>18</th>\n",
       "      <td>Eminem</td>\n",
       "      <td>Stan</td>\n",
       "      <td>My tea's gone cold I'm wondering why I got out...</td>\n",
       "    </tr>\n",
       "    <tr>\n",
       "      <th>19</th>\n",
       "      <td>Eminem</td>\n",
       "      <td>My Name Is</td>\n",
       "      <td>Hi! My name is... (what?) My name is... (who?)...</td>\n",
       "    </tr>\n",
       "  </tbody>\n",
       "</table>\n",
       "</div>"
      ],
      "text/plain": [
       "       artist                      song  \\\n",
       "0     Beatles                     Help!   \n",
       "1     Beatles            Ticket to Ride   \n",
       "2     Beatles         A Hard Days Night   \n",
       "3     Beatles          Cant Buy Me Love   \n",
       "4     Beatles             Eleanor Rigby   \n",
       "5     Beatles  I Want to Hold Your Hand   \n",
       "6     Beatles             She Loves You   \n",
       "7     Beatles                 Yesterday   \n",
       "8   Metallica      Nothing Else Matters   \n",
       "9   Metallica             Enter Sandman   \n",
       "10  Metallica         Master of Puppets   \n",
       "11  Metallica            The Unforgiven   \n",
       "12  Metallica             Fade to Black   \n",
       "13  Metallica                       One   \n",
       "14  Metallica   For Whom the Bell Tolls   \n",
       "15     Eminem       The Real Slim Shady   \n",
       "16     Eminem           Till I Collapse   \n",
       "17     Eminem             Lose Yourself   \n",
       "18     Eminem                      Stan   \n",
       "19     Eminem                My Name Is   \n",
       "\n",
       "                                               lyrics  \n",
       "0   (When) When I was younger (When I was young) s...  \n",
       "1   I think I'm gonna be sad, I think it's today, ...  \n",
       "2   It's been a hard day's night, and I been worki...  \n",
       "3   Can't buy me love, love Can't buy me love I'll...  \n",
       "4   Ah look at all the lonely people Ah look at al...  \n",
       "5   Oh yeah, I'll tell you something I think you'l...  \n",
       "6   She loves you, yeah, yeah, yeah She loves you,...  \n",
       "7   Yesterday all my troubles seemed so far away. ...  \n",
       "8   So close no matter how far Couldn't be much mo...  \n",
       "9   Say your prayers, little one Don't forget, my ...  \n",
       "10  End of passion play, crumbling away I’m your s...  \n",
       "11  New blood joins this earth, And quickly he's s...  \n",
       "12  Life, it seems, will fade away Drifting furthe...  \n",
       "13  I can’t remember anything Can’t tell if this i...  \n",
       "14  Make his fight on the hill in the early day Co...  \n",
       "15  May I have your attention please? May I have y...  \n",
       "16  'Cause sometimes you just feel tired, Feel wea...  \n",
       "17  Look, if you had, one shot, or one opportunity...  \n",
       "18  My tea's gone cold I'm wondering why I got out...  \n",
       "19  Hi! My name is... (what?) My name is... (who?)...  "
      ]
     },
     "execution_count": 2,
     "metadata": {},
     "output_type": "execute_result"
    }
   ],
   "source": [
    "import pandas as pd\n",
    "df = pd.read_csv('lyrics.txt', sep='\\t')\n",
    "df.head(20)"
   ]
  },
  {
   "cell_type": "markdown",
   "metadata": {},
   "source": [
    "<h3>Terminology</h3>"
   ]
  },
  {
   "cell_type": "markdown",
   "metadata": {},
   "source": [
    "* DataFrame - think Excel spreadsheet\n",
    "\n",
    "* Document - a single string of text information\n",
    "\n",
    "* Corpus - a collection of documents\n",
    "\n",
    "* Token - a word, phrase or symbol derived from a document\n",
    "\n",
    "* Tokenizer - function to split a document into a list of tokens\n",
    "\n",
    "* Document-Term Matrix - A matrix where rows are Documents and columns are Terms and values are counts"
   ]
  },
  {
   "cell_type": "code",
   "execution_count": null,
   "metadata": {},
   "outputs": [],
   "source": []
  },
  {
   "cell_type": "markdown",
   "metadata": {},
   "source": [
    "\n"
   ]
  },
  {
   "cell_type": "code",
   "execution_count": null,
   "metadata": {},
   "outputs": [],
   "source": []
  },
  {
   "cell_type": "markdown",
   "metadata": {},
   "source": [
    "## Goal: Train a model to guess which artist wrote song based on lyrics\n",
    "\n",
    "* Count Model (Bag of Words)\n",
    "* TF-IDF Model\n",
    "\n"
   ]
  },
  {
   "cell_type": "markdown",
   "metadata": {},
   "source": [
    "# Set up and toy examples"
   ]
  },
  {
   "cell_type": "code",
   "execution_count": 3,
   "metadata": {
    "collapsed": true
   },
   "outputs": [],
   "source": [
    "# Example corpus\n",
    "messages = [\"Hey hey hey lets go get lunch today :)\",\n",
    "           \"Did you go home?\",\n",
    "           \"Hey!!! I need a favor\"]"
   ]
  },
  {
   "cell_type": "code",
   "execution_count": 4,
   "metadata": {},
   "outputs": [
    {
     "data": {
      "text/plain": [
       "'Hey hey hey lets go get lunch today :)'"
      ]
     },
     "execution_count": 4,
     "metadata": {},
     "output_type": "execute_result"
    }
   ],
   "source": [
    "# Example document\n",
    "document = messages[0]\n",
    "document"
   ]
  },
  {
   "cell_type": "code",
   "execution_count": 5,
   "metadata": {},
   "outputs": [
    {
     "data": {
      "text/plain": [
       "['Hey', 'hey', 'hey', 'lets', 'go', 'get', 'lunch', 'today', ':)']"
      ]
     },
     "execution_count": 5,
     "metadata": {},
     "output_type": "execute_result"
    }
   ],
   "source": [
    "# Creating tokens\n",
    "document.split(' ')"
   ]
  },
  {
   "cell_type": "markdown",
   "metadata": {},
   "source": [
    "## Count (Bag of Words) Model"
   ]
  },
  {
   "cell_type": "markdown",
   "metadata": {},
   "source": [
    "* need a numerical representation for our corpus\n",
    "* will use CountVectorizer() from sci-kit learn library\n",
    "* creates matrix of token counts"
   ]
  },
  {
   "cell_type": "code",
   "execution_count": 6,
   "metadata": {},
   "outputs": [],
   "source": [
    "# import and instantiate CountVectorizer()\n",
    "from sklearn.feature_extraction.text import CountVectorizer\n",
    "vect = CountVectorizer()"
   ]
  },
  {
   "cell_type": "markdown",
   "metadata": {},
   "source": [
    "* next we will use fit() and transform() methods\n",
    "* similar to fit() and predict() used in ML classifiers\n",
    "\n",
    "## Going to fit model on all documents at once"
   ]
  },
  {
   "cell_type": "code",
   "execution_count": 7,
   "metadata": {},
   "outputs": [
    {
     "data": {
      "text/plain": [
       "CountVectorizer(analyzer='word', binary=False, decode_error='strict',\n",
       "        dtype=<class 'numpy.int64'>, encoding='utf-8', input='content',\n",
       "        lowercase=True, max_df=1.0, max_features=None, min_df=1,\n",
       "        ngram_range=(1, 1), preprocessor=None, stop_words=None,\n",
       "        strip_accents=None, token_pattern='(?u)\\\\b\\\\w\\\\w+\\\\b',\n",
       "        tokenizer=None, vocabulary=None)"
      ]
     },
     "execution_count": 7,
     "metadata": {},
     "output_type": "execute_result"
    }
   ],
   "source": [
    "vect.fit(messages)"
   ]
  },
  {
   "cell_type": "code",
   "execution_count": 9,
   "metadata": {},
   "outputs": [
    {
     "name": "stdout",
     "output_type": "stream",
     "text": [
      "['did', 'favor', 'get', 'go', 'hey', 'home', 'lets', 'lunch', 'need', 'today', 'you']\n"
     ]
    },
    {
     "data": {
      "text/plain": [
       "'Number of tokens: 11'"
      ]
     },
     "execution_count": 9,
     "metadata": {},
     "output_type": "execute_result"
    }
   ],
   "source": [
    "# before transforming look at feature names (columns names)\n",
    "print(vect.get_feature_names())\n",
    "'Number of tokens: {}'.format(len(vect.get_feature_names()))"
   ]
  },
  {
   "cell_type": "markdown",
   "metadata": {},
   "source": [
    "Things to note:\n",
    "* all lowercase\n",
    "* words less than two letters are excluded\n",
    "* punctuation removed\n",
    "* no duplicates"
   ]
  },
  {
   "cell_type": "markdown",
   "metadata": {},
   "source": [
    "### Next, we'll use the transform() method to create a document term matrix (DTM). \n",
    "\n",
    "### This is the matrix of token counts we want to create."
   ]
  },
  {
   "cell_type": "code",
   "execution_count": 10,
   "metadata": {},
   "outputs": [],
   "source": [
    "dtm = vect.transform(messages)\n"
   ]
  },
  {
   "cell_type": "code",
   "execution_count": 11,
   "metadata": {
    "scrolled": true
   },
   "outputs": [
    {
     "data": {
      "text/html": [
       "<div>\n",
       "<style scoped>\n",
       "    .dataframe tbody tr th:only-of-type {\n",
       "        vertical-align: middle;\n",
       "    }\n",
       "\n",
       "    .dataframe tbody tr th {\n",
       "        vertical-align: top;\n",
       "    }\n",
       "\n",
       "    .dataframe thead th {\n",
       "        text-align: right;\n",
       "    }\n",
       "</style>\n",
       "<table border=\"1\" class=\"dataframe\">\n",
       "  <thead>\n",
       "    <tr style=\"text-align: right;\">\n",
       "      <th></th>\n",
       "      <th>did</th>\n",
       "      <th>favor</th>\n",
       "      <th>get</th>\n",
       "      <th>go</th>\n",
       "      <th>hey</th>\n",
       "      <th>home</th>\n",
       "      <th>lets</th>\n",
       "      <th>lunch</th>\n",
       "      <th>need</th>\n",
       "      <th>today</th>\n",
       "      <th>you</th>\n",
       "    </tr>\n",
       "  </thead>\n",
       "  <tbody>\n",
       "    <tr>\n",
       "      <th>0</th>\n",
       "      <td>0</td>\n",
       "      <td>0</td>\n",
       "      <td>1</td>\n",
       "      <td>1</td>\n",
       "      <td>3</td>\n",
       "      <td>0</td>\n",
       "      <td>1</td>\n",
       "      <td>1</td>\n",
       "      <td>0</td>\n",
       "      <td>1</td>\n",
       "      <td>0</td>\n",
       "    </tr>\n",
       "    <tr>\n",
       "      <th>1</th>\n",
       "      <td>1</td>\n",
       "      <td>0</td>\n",
       "      <td>0</td>\n",
       "      <td>1</td>\n",
       "      <td>0</td>\n",
       "      <td>1</td>\n",
       "      <td>0</td>\n",
       "      <td>0</td>\n",
       "      <td>0</td>\n",
       "      <td>0</td>\n",
       "      <td>1</td>\n",
       "    </tr>\n",
       "    <tr>\n",
       "      <th>2</th>\n",
       "      <td>0</td>\n",
       "      <td>1</td>\n",
       "      <td>0</td>\n",
       "      <td>0</td>\n",
       "      <td>1</td>\n",
       "      <td>0</td>\n",
       "      <td>0</td>\n",
       "      <td>0</td>\n",
       "      <td>1</td>\n",
       "      <td>0</td>\n",
       "      <td>0</td>\n",
       "    </tr>\n",
       "  </tbody>\n",
       "</table>\n",
       "</div>"
      ],
      "text/plain": [
       "   did  favor  get  go  hey  home  lets  lunch  need  today  you\n",
       "0    0      0    1   1    3     0     1      1     0      1    0\n",
       "1    1      0    0   1    0     1     0      0     0      0    1\n",
       "2    0      1    0   0    1     0     0      0     1      0    0"
      ]
     },
     "execution_count": 11,
     "metadata": {},
     "output_type": "execute_result"
    }
   ],
   "source": [
    "# Lets look at it as a Matrix\n",
    "pd.DataFrame(dtm.toarray()\n",
    "             , columns=vect.get_feature_names())"
   ]
  },
  {
   "cell_type": "code",
   "execution_count": 12,
   "metadata": {},
   "outputs": [
    {
     "data": {
      "text/plain": [
       "<3x11 sparse matrix of type '<class 'numpy.int64'>'\n",
       "\twith 13 stored elements in Compressed Sparse Row format>"
      ]
     },
     "execution_count": 12,
     "metadata": {},
     "output_type": "execute_result"
    }
   ],
   "source": [
    "# there's lots of zeros in there, so they store it differently\n",
    "dtm"
   ]
  },
  {
   "cell_type": "code",
   "execution_count": 13,
   "metadata": {},
   "outputs": [
    {
     "name": "stdout",
     "output_type": "stream",
     "text": [
      "  (0, 2)\t1\n",
      "  (0, 3)\t1\n",
      "  (0, 4)\t3\n",
      "  (0, 6)\t1\n",
      "  (0, 7)\t1\n",
      "  (0, 9)\t1\n",
      "  (1, 0)\t1\n",
      "  (1, 3)\t1\n",
      "  (1, 5)\t1\n",
      "  (1, 10)\t1\n",
      "  (2, 1)\t1\n",
      "  (2, 4)\t1\n",
      "  (2, 8)\t1\n"
     ]
    }
   ],
   "source": [
    "print(dtm)"
   ]
  },
  {
   "cell_type": "markdown",
   "metadata": {},
   "source": [
    "* Because each document has a column for every word that occurs in the corpus, DTM is predominatly filled with 0's\n",
    "* Sparse format can store the DTM in a smaller amount of memory and can speed up operations\n",
    "* a DTM of a large corpus can quickly balloon in size"
   ]
  },
  {
   "cell_type": "markdown",
   "metadata": {},
   "source": [
    "#### get total counts for corpus"
   ]
  },
  {
   "cell_type": "code",
   "execution_count": 14,
   "metadata": {},
   "outputs": [
    {
     "data": {
      "text/plain": [
       "did      1\n",
       "favor    1\n",
       "get      1\n",
       "go       2\n",
       "hey      4\n",
       "home     1\n",
       "lets     1\n",
       "lunch    1\n",
       "need     1\n",
       "today    1\n",
       "you      1\n",
       "dtype: int64"
      ]
     },
     "execution_count": 14,
     "metadata": {},
     "output_type": "execute_result"
    }
   ],
   "source": [
    "\n",
    "pd.DataFrame(dtm.toarray(), columns=vect.get_feature_names()).sum()"
   ]
  },
  {
   "cell_type": "markdown",
   "metadata": {},
   "source": [
    "### What happens if we get a new message?"
   ]
  },
  {
   "cell_type": "code",
   "execution_count": 26,
   "metadata": {},
   "outputs": [
    {
     "data": {
      "text/html": [
       "<div>\n",
       "<table border=\"1\" class=\"dataframe\">\n",
       "  <thead>\n",
       "    <tr style=\"text-align: right;\">\n",
       "      <th></th>\n",
       "      <th>did</th>\n",
       "      <th>favor</th>\n",
       "      <th>get</th>\n",
       "      <th>go</th>\n",
       "      <th>hey</th>\n",
       "      <th>home</th>\n",
       "      <th>lets</th>\n",
       "      <th>lunch</th>\n",
       "      <th>need</th>\n",
       "      <th>today</th>\n",
       "      <th>you</th>\n",
       "    </tr>\n",
       "  </thead>\n",
       "  <tbody>\n",
       "    <tr>\n",
       "      <th>0</th>\n",
       "      <td>0</td>\n",
       "      <td>0</td>\n",
       "      <td>1</td>\n",
       "      <td>1</td>\n",
       "      <td>1</td>\n",
       "      <td>0</td>\n",
       "      <td>1</td>\n",
       "      <td>0</td>\n",
       "      <td>0</td>\n",
       "      <td>0</td>\n",
       "      <td>0</td>\n",
       "    </tr>\n",
       "  </tbody>\n",
       "</table>\n",
       "</div>"
      ],
      "text/plain": [
       "   did  favor  get  go  hey  home  lets  lunch  need  today  you\n",
       "0    0      0    1   1    1     0     1      0     0      0    0"
      ]
     },
     "execution_count": 26,
     "metadata": {},
     "output_type": "execute_result"
    }
   ],
   "source": [
    "new_message = ['Hey lets go get a drink tonight']\n",
    "new_dtm = vect.transform(new_message)\n",
    "pd.DataFrame(new_dtm.toarray(), columns=vect.get_feature_names())"
   ]
  },
  {
   "cell_type": "markdown",
   "metadata": {},
   "source": [
    "* only tokens from original fit appear as features(columns)\n",
    "* need to refit with new message included"
   ]
  },
  {
   "cell_type": "code",
   "execution_count": 27,
   "metadata": {},
   "outputs": [
    {
     "data": {
      "text/plain": [
       "['Hey hey hey lets go get lunch today :)',\n",
       " 'Did you go home?',\n",
       " 'Hey!!! I need a favor',\n",
       " 'Hey lets go get a drink tonight']"
      ]
     },
     "execution_count": 27,
     "metadata": {},
     "output_type": "execute_result"
    }
   ],
   "source": [
    "messages.append(new_message[0])\n",
    "messages"
   ]
  },
  {
   "cell_type": "code",
   "execution_count": 28,
   "metadata": {},
   "outputs": [
    {
     "data": {
      "text/html": [
       "<div>\n",
       "<table border=\"1\" class=\"dataframe\">\n",
       "  <thead>\n",
       "    <tr style=\"text-align: right;\">\n",
       "      <th></th>\n",
       "      <th>did</th>\n",
       "      <th>drink</th>\n",
       "      <th>favor</th>\n",
       "      <th>get</th>\n",
       "      <th>go</th>\n",
       "      <th>hey</th>\n",
       "      <th>home</th>\n",
       "      <th>lets</th>\n",
       "      <th>lunch</th>\n",
       "      <th>need</th>\n",
       "      <th>today</th>\n",
       "      <th>tonight</th>\n",
       "      <th>you</th>\n",
       "    </tr>\n",
       "  </thead>\n",
       "  <tbody>\n",
       "    <tr>\n",
       "      <th>0</th>\n",
       "      <td>0</td>\n",
       "      <td>0</td>\n",
       "      <td>0</td>\n",
       "      <td>1</td>\n",
       "      <td>1</td>\n",
       "      <td>3</td>\n",
       "      <td>0</td>\n",
       "      <td>1</td>\n",
       "      <td>1</td>\n",
       "      <td>0</td>\n",
       "      <td>1</td>\n",
       "      <td>0</td>\n",
       "      <td>0</td>\n",
       "    </tr>\n",
       "    <tr>\n",
       "      <th>1</th>\n",
       "      <td>1</td>\n",
       "      <td>0</td>\n",
       "      <td>0</td>\n",
       "      <td>0</td>\n",
       "      <td>1</td>\n",
       "      <td>0</td>\n",
       "      <td>1</td>\n",
       "      <td>0</td>\n",
       "      <td>0</td>\n",
       "      <td>0</td>\n",
       "      <td>0</td>\n",
       "      <td>0</td>\n",
       "      <td>1</td>\n",
       "    </tr>\n",
       "    <tr>\n",
       "      <th>2</th>\n",
       "      <td>0</td>\n",
       "      <td>0</td>\n",
       "      <td>1</td>\n",
       "      <td>0</td>\n",
       "      <td>0</td>\n",
       "      <td>1</td>\n",
       "      <td>0</td>\n",
       "      <td>0</td>\n",
       "      <td>0</td>\n",
       "      <td>1</td>\n",
       "      <td>0</td>\n",
       "      <td>0</td>\n",
       "      <td>0</td>\n",
       "    </tr>\n",
       "    <tr>\n",
       "      <th>3</th>\n",
       "      <td>0</td>\n",
       "      <td>1</td>\n",
       "      <td>0</td>\n",
       "      <td>1</td>\n",
       "      <td>1</td>\n",
       "      <td>1</td>\n",
       "      <td>0</td>\n",
       "      <td>1</td>\n",
       "      <td>0</td>\n",
       "      <td>0</td>\n",
       "      <td>0</td>\n",
       "      <td>1</td>\n",
       "      <td>0</td>\n",
       "    </tr>\n",
       "  </tbody>\n",
       "</table>\n",
       "</div>"
      ],
      "text/plain": [
       "   did  drink  favor  get  go  hey  home  lets  lunch  need  today  tonight  \\\n",
       "0    0      0      0    1   1    3     0     1      1     0      1        0   \n",
       "1    1      0      0    0   1    0     1     0      0     0      0        0   \n",
       "2    0      0      1    0   0    1     0     0      0     1      0        0   \n",
       "3    0      1      0    1   1    1     0     1      0     0      0        1   \n",
       "\n",
       "   you  \n",
       "0    0  \n",
       "1    1  \n",
       "2    0  \n",
       "3    0  "
      ]
     },
     "execution_count": 28,
     "metadata": {},
     "output_type": "execute_result"
    }
   ],
   "source": [
    "dtm = vect.fit_transform(messages)\n",
    "pd.DataFrame(dtm.toarray(), columns=vect.get_feature_names())"
   ]
  },
  {
   "cell_type": "markdown",
   "metadata": {},
   "source": [
    "## If we use CountVectorizer, this is what we get\n",
    "![title](countvect.png)\n",
    "\n",
    "### Can you think of a linguistics reason why we don't see much separation?"
   ]
  },
  {
   "cell_type": "markdown",
   "metadata": {},
   "source": [
    "# TF-IDF Model: \n",
    "### - Not all Counts are the same\n",
    "### - Words unique to that document stand out"
   ]
  },
  {
   "cell_type": "markdown",
   "metadata": {},
   "source": [
    "* term frequency inverse document frequency\n",
    "* generally more popular than bag of words model\n",
    "* numerical statistic to show how important an token is to a document\n",
    "* TF-IDF = term frequency * (1 / document frequency)\n",
    "* TF - how frequent a term(token) occurs in a document\n",
    "* IDF - inverse of how frequent a term occurs across documents"
   ]
  },
  {
   "cell_type": "code",
   "execution_count": 17,
   "metadata": {
    "collapsed": true
   },
   "outputs": [],
   "source": [
    "from sklearn.feature_extraction.text import TfidfVectorizer\n",
    "\n",
    "\n",
    "def createDTM(messages, tfidf=True):\n",
    "    if tfidf:\n",
    "        vect = TfidfVectorizer()\n",
    "    else:\n",
    "        vect = CountVectorizer()\n",
    "    dtm = vect.fit_transform(messages)\n",
    "    # create pandas dataframe of DTM\n",
    "    return pd.DataFrame(dtm.toarray(), columns=vect.get_feature_names()) "
   ]
  },
  {
   "cell_type": "code",
   "execution_count": 23,
   "metadata": {},
   "outputs": [
    {
     "name": "stdout",
     "output_type": "stream",
     "text": [
      "TFIDF\n",
      "      favor       get       hey      lets     lunch      need\n",
      "0  0.000000  0.534046  0.379978  0.534046  0.534046  0.000000\n",
      "1  0.631667  0.000000  0.449436  0.000000  0.000000  0.631667\n",
      "Count\n",
      "   favor  get  hey  lets  lunch  need\n",
      "0      0    1    1     1      1     0\n",
      "1      1    0    1     0      0     1\n"
     ]
    }
   ],
   "source": [
    "messages = [\"Hey lets get lunch :)\",\n",
    "           \"Hey!!! I need a favor\"]\n",
    "print('TFIDF', createDTM(messages), sep='\\n')\n",
    "\n",
    "print('Count', createDTM(messages, False), sep='\\n')\n"
   ]
  },
  {
   "cell_type": "markdown",
   "metadata": {},
   "source": [
    "* `'hey'` has lowest value, only word that occurs in both documents\n",
    "* `'favor'` and `'need'` have highest, occur in 1 document with fewest tokens"
   ]
  },
  {
   "cell_type": "code",
   "execution_count": 31,
   "metadata": {},
   "outputs": [
    {
     "data": {
      "text/html": [
       "<div>\n",
       "<table border=\"1\" class=\"dataframe\">\n",
       "  <thead>\n",
       "    <tr style=\"text-align: right;\">\n",
       "      <th></th>\n",
       "      <th>favor</th>\n",
       "      <th>get</th>\n",
       "      <th>hey</th>\n",
       "      <th>lets</th>\n",
       "      <th>lunch</th>\n",
       "      <th>need</th>\n",
       "    </tr>\n",
       "  </thead>\n",
       "  <tbody>\n",
       "    <tr>\n",
       "      <th>0</th>\n",
       "      <td>0.000000</td>\n",
       "      <td>0.363788</td>\n",
       "      <td>0.776515</td>\n",
       "      <td>0.363788</td>\n",
       "      <td>0.363788</td>\n",
       "      <td>0.000000</td>\n",
       "    </tr>\n",
       "    <tr>\n",
       "      <th>1</th>\n",
       "      <td>0.631667</td>\n",
       "      <td>0.000000</td>\n",
       "      <td>0.449436</td>\n",
       "      <td>0.000000</td>\n",
       "      <td>0.000000</td>\n",
       "      <td>0.631667</td>\n",
       "    </tr>\n",
       "  </tbody>\n",
       "</table>\n",
       "</div>"
      ],
      "text/plain": [
       "      favor       get       hey      lets     lunch      need\n",
       "0  0.000000  0.363788  0.776515  0.363788  0.363788  0.000000\n",
       "1  0.631667  0.000000  0.449436  0.000000  0.000000  0.631667"
      ]
     },
     "execution_count": 31,
     "metadata": {},
     "output_type": "execute_result"
    }
   ],
   "source": [
    "# add repeats of 'hey' to first message\n",
    "messages = [\"Hey hey hey lets get lunch :)\",\n",
    "           \"Hey!!! I need a favor\"]\n",
    "createDTM(messages)"
   ]
  },
  {
   "cell_type": "markdown",
   "metadata": {},
   "source": [
    "* TF for `'hey'` in first increases, but IDF for `'hey'` remains the same"
   ]
  },
  {
   "cell_type": "code",
   "execution_count": 32,
   "metadata": {},
   "outputs": [
    {
     "data": {
      "text/html": [
       "<div>\n",
       "<table border=\"1\" class=\"dataframe\">\n",
       "  <thead>\n",
       "    <tr style=\"text-align: right;\">\n",
       "      <th></th>\n",
       "      <th>favor</th>\n",
       "      <th>get</th>\n",
       "      <th>hey</th>\n",
       "      <th>lets</th>\n",
       "      <th>lunch</th>\n",
       "      <th>need</th>\n",
       "    </tr>\n",
       "  </thead>\n",
       "  <tbody>\n",
       "    <tr>\n",
       "      <th>0</th>\n",
       "      <td>0.000000</td>\n",
       "      <td>0.288675</td>\n",
       "      <td>0.866025</td>\n",
       "      <td>0.288675</td>\n",
       "      <td>0.288675</td>\n",
       "      <td>0.000000</td>\n",
       "    </tr>\n",
       "    <tr>\n",
       "      <th>1</th>\n",
       "      <td>0.707107</td>\n",
       "      <td>0.000000</td>\n",
       "      <td>0.000000</td>\n",
       "      <td>0.000000</td>\n",
       "      <td>0.000000</td>\n",
       "      <td>0.707107</td>\n",
       "    </tr>\n",
       "  </tbody>\n",
       "</table>\n",
       "</div>"
      ],
      "text/plain": [
       "      favor       get       hey      lets     lunch      need\n",
       "0  0.000000  0.288675  0.866025  0.288675  0.288675  0.000000\n",
       "1  0.707107  0.000000  0.000000  0.000000  0.000000  0.707107"
      ]
     },
     "execution_count": 32,
     "metadata": {},
     "output_type": "execute_result"
    }
   ],
   "source": [
    "# remove 'hey' from second message\n",
    "messages = [\"Hey hey hey lets get lunch :)\",\n",
    "           \"I need a favor\"]\n",
    "createDTM(messages)"
   ]
  },
  {
   "cell_type": "markdown",
   "metadata": {},
   "source": [
    "* `'hey'` for first message is now the highest value\n",
    "* `'favor'` and `'need'` also increase as there are now fewer tokens in the second message"
   ]
  },
  {
   "cell_type": "markdown",
   "metadata": {},
   "source": [
    "<h3>Preprocessing and Hyperparameters</h3>"
   ]
  },
  {
   "cell_type": "markdown",
   "metadata": {},
   "source": [
    "* max_features = n : only considers the top n words when ordered by term frequency\n",
    "* min_df = n : ignores words with a document frequency below n\n",
    "* max_df = n : ignores words with a document frequency above n\n",
    "* stop_words = [''] : ignores common words like `'the'`, `'that'`, `'which'` etc."
   ]
  },
  {
   "cell_type": "code",
   "execution_count": 27,
   "metadata": {
    "collapsed": true
   },
   "outputs": [],
   "source": [
    "song_vect = TfidfVectorizer(stop_words='english',max_df=0.7)\n",
    "song_dtm = song_vect.fit_transform(df['lyrics'])"
   ]
  },
  {
   "cell_type": "code",
   "execution_count": 28,
   "metadata": {},
   "outputs": [
    {
     "data": {
      "text/plain": [
       "<32x1983 sparse matrix of type '<class 'numpy.float64'>'\n",
       "\twith 3470 stored elements in Compressed Sparse Row format>"
      ]
     },
     "execution_count": 28,
     "metadata": {},
     "output_type": "execute_result"
    }
   ],
   "source": [
    "song_dtm"
   ]
  },
  {
   "cell_type": "markdown",
   "metadata": {},
   "source": [
    "# How to plot this?   \n",
    "* we can't plot 1984 dimensions in an effective way\n",
    "* need to reduce dimensionality to 2 dimensions \n",
    "\n",
    "## Principle Component Analysis (PCA)\n",
    "* summarizes data using smaller number of dimensions\n",
    "* trys to retain variance and 'structure' of the data\n",
    "* a method for compressing data"
   ]
  },
  {
   "cell_type": "code",
   "execution_count": 29,
   "metadata": {},
   "outputs": [],
   "source": [
    "# Principle Component Analysis (PCA) to reduce down to two dimensions\n",
    "from sklearn.decomposition import PCA\n",
    "X_pca = PCA(n_components=2).fit_transform(song_dtm.toarray())"
   ]
  },
  {
   "cell_type": "code",
   "execution_count": 30,
   "metadata": {},
   "outputs": [
    {
     "data": {
      "text/html": [
       "<div>\n",
       "<style scoped>\n",
       "    .dataframe tbody tr th:only-of-type {\n",
       "        vertical-align: middle;\n",
       "    }\n",
       "\n",
       "    .dataframe tbody tr th {\n",
       "        vertical-align: top;\n",
       "    }\n",
       "\n",
       "    .dataframe thead th {\n",
       "        text-align: right;\n",
       "    }\n",
       "</style>\n",
       "<table border=\"1\" class=\"dataframe\">\n",
       "  <thead>\n",
       "    <tr style=\"text-align: right;\">\n",
       "      <th></th>\n",
       "      <th>artist</th>\n",
       "      <th>song</th>\n",
       "      <th>lyrics</th>\n",
       "      <th>A</th>\n",
       "      <th>B</th>\n",
       "    </tr>\n",
       "  </thead>\n",
       "  <tbody>\n",
       "    <tr>\n",
       "      <th>0</th>\n",
       "      <td>Beatles</td>\n",
       "      <td>Help!</td>\n",
       "      <td>(When) When I was younger (When I was young) s...</td>\n",
       "      <td>-0.135698</td>\n",
       "      <td>0.066266</td>\n",
       "    </tr>\n",
       "    <tr>\n",
       "      <th>1</th>\n",
       "      <td>Beatles</td>\n",
       "      <td>Ticket to Ride</td>\n",
       "      <td>I think I'm gonna be sad, I think it's today, ...</td>\n",
       "      <td>0.112914</td>\n",
       "      <td>-0.293119</td>\n",
       "    </tr>\n",
       "    <tr>\n",
       "      <th>2</th>\n",
       "      <td>Beatles</td>\n",
       "      <td>A Hard Days Night</td>\n",
       "      <td>It's been a hard day's night, and I been worki...</td>\n",
       "      <td>0.030226</td>\n",
       "      <td>-0.205211</td>\n",
       "    </tr>\n",
       "    <tr>\n",
       "      <th>3</th>\n",
       "      <td>Beatles</td>\n",
       "      <td>Cant Buy Me Love</td>\n",
       "      <td>Can't buy me love, love Can't buy me love I'll...</td>\n",
       "      <td>0.070407</td>\n",
       "      <td>-0.334199</td>\n",
       "    </tr>\n",
       "    <tr>\n",
       "      <th>4</th>\n",
       "      <td>Beatles</td>\n",
       "      <td>Eleanor Rigby</td>\n",
       "      <td>Ah look at all the lonely people Ah look at al...</td>\n",
       "      <td>-0.309337</td>\n",
       "      <td>0.063733</td>\n",
       "    </tr>\n",
       "  </tbody>\n",
       "</table>\n",
       "</div>"
      ],
      "text/plain": [
       "    artist               song  \\\n",
       "0  Beatles              Help!   \n",
       "1  Beatles     Ticket to Ride   \n",
       "2  Beatles  A Hard Days Night   \n",
       "3  Beatles   Cant Buy Me Love   \n",
       "4  Beatles      Eleanor Rigby   \n",
       "\n",
       "                                              lyrics         A         B  \n",
       "0  (When) When I was younger (When I was young) s... -0.135698  0.066266  \n",
       "1  I think I'm gonna be sad, I think it's today, ...  0.112914 -0.293119  \n",
       "2  It's been a hard day's night, and I been worki...  0.030226 -0.205211  \n",
       "3  Can't buy me love, love Can't buy me love I'll...  0.070407 -0.334199  \n",
       "4  Ah look at all the lonely people Ah look at al... -0.309337  0.063733  "
      ]
     },
     "execution_count": 30,
     "metadata": {},
     "output_type": "execute_result"
    }
   ],
   "source": [
    "df['A'] = X_pca[:,0]\n",
    "df['B'] = X_pca[:,1]\n",
    "df.head()"
   ]
  },
  {
   "cell_type": "code",
   "execution_count": 55,
   "metadata": {},
   "outputs": [
    {
     "data": {
      "image/png": "[encoded data removed]",
      "text/plain": [
       "<Figure size 447.25x360 with 1 Axes>"
      ]
     },
     "metadata": {},
     "output_type": "display_data"
    }
   ],
   "source": [
    "import seaborn as sns\n",
    "import matplotlib.pyplot as plt\n",
    "%matplotlib inline\n",
    "sns.lmplot(x='A', y='B', data=df,fit_reg=False, hue='artist')\n",
    "plt.show()"
   ]
  },
  {
   "cell_type": "markdown",
   "metadata": {},
   "source": [
    "# Distinguishing musicians may low-stakes\n",
    "\n",
    "# But what if now you needed to find a suicide emails?\n",
    "![title](lives_saved.jpg)"
   ]
  },
  {
   "cell_type": "markdown",
   "metadata": {},
   "source": [
    "# -----\n",
    "\n",
    "\n",
    "\n",
    "# Extra stuff on Linguistics"
   ]
  },
  {
   "cell_type": "markdown",
   "metadata": {},
   "source": [
    "### N-gram Model"
   ]
  },
  {
   "cell_type": "markdown",
   "metadata": {},
   "source": [
    "* n-gram is a sequence of n words\n",
    "* bag of words model is actually a specific case of the N-gram model where n=1\n",
    "* Consider the string `'Buffalo Data Science Meetup'`\n",
    " * n=1 (unigram) :  `'Buffalo'`,`'Data'`,`'Science'`,`'Meetup'`  (Bag of words model)\n",
    " * n=2 (bigram) : `'Buffalo Data'`, `'Data Science'`, `'Science Meetup'`\n",
    " * n=3 (trigram) : `'Buffalo Data Science'`,`'Data Science Meetup`'\n",
    "* using n-gram model info about order of tokens"
   ]
  },
  {
   "cell_type": "code",
   "execution_count": 47,
   "metadata": {
    "collapsed": true
   },
   "outputs": [],
   "source": [
    "messages = [\"Hey hey hey lets go get lunch today :)\",\n",
    "           \"Hey!!! I need a favor\"]"
   ]
  },
  {
   "cell_type": "code",
   "execution_count": 48,
   "metadata": {},
   "outputs": [
    {
     "data": {
      "text/html": [
       "<div>\n",
       "<table border=\"1\" class=\"dataframe\">\n",
       "  <thead>\n",
       "    <tr style=\"text-align: right;\">\n",
       "      <th></th>\n",
       "      <th>get lunch</th>\n",
       "      <th>go get</th>\n",
       "      <th>hey hey</th>\n",
       "      <th>hey lets</th>\n",
       "      <th>hey need</th>\n",
       "      <th>lets go</th>\n",
       "      <th>lunch today</th>\n",
       "      <th>need favor</th>\n",
       "    </tr>\n",
       "  </thead>\n",
       "  <tbody>\n",
       "    <tr>\n",
       "      <th>0</th>\n",
       "      <td>1</td>\n",
       "      <td>1</td>\n",
       "      <td>2</td>\n",
       "      <td>1</td>\n",
       "      <td>0</td>\n",
       "      <td>1</td>\n",
       "      <td>1</td>\n",
       "      <td>0</td>\n",
       "    </tr>\n",
       "    <tr>\n",
       "      <th>1</th>\n",
       "      <td>0</td>\n",
       "      <td>0</td>\n",
       "      <td>0</td>\n",
       "      <td>0</td>\n",
       "      <td>1</td>\n",
       "      <td>0</td>\n",
       "      <td>0</td>\n",
       "      <td>1</td>\n",
       "    </tr>\n",
       "  </tbody>\n",
       "</table>\n",
       "</div>"
      ],
      "text/plain": [
       "   get lunch  go get  hey hey  hey lets  hey need  lets go  lunch today  \\\n",
       "0          1       1        2         1         0        1            1   \n",
       "1          0       0        0         0         1        0            0   \n",
       "\n",
       "   need favor  \n",
       "0           0  \n",
       "1           1  "
      ]
     },
     "execution_count": 48,
     "metadata": {},
     "output_type": "execute_result"
    }
   ],
   "source": [
    "# look at bigrams\n",
    "vect = CountVectorizer(ngram_range=(2,2))\n",
    "dtm = vect.fit_transform(messages)\n",
    "pd.DataFrame(dtm.toarray(), columns=vect.get_feature_names())"
   ]
  },
  {
   "cell_type": "code",
   "execution_count": 49,
   "metadata": {},
   "outputs": [
    {
     "data": {
      "text/html": [
       "<div>\n",
       "<table border=\"1\" class=\"dataframe\">\n",
       "  <thead>\n",
       "    <tr style=\"text-align: right;\">\n",
       "      <th></th>\n",
       "      <th>get lunch today</th>\n",
       "      <th>go get lunch</th>\n",
       "      <th>hey hey hey</th>\n",
       "      <th>hey hey lets</th>\n",
       "      <th>hey lets go</th>\n",
       "      <th>hey need favor</th>\n",
       "      <th>lets go get</th>\n",
       "    </tr>\n",
       "  </thead>\n",
       "  <tbody>\n",
       "    <tr>\n",
       "      <th>0</th>\n",
       "      <td>1</td>\n",
       "      <td>1</td>\n",
       "      <td>1</td>\n",
       "      <td>1</td>\n",
       "      <td>1</td>\n",
       "      <td>0</td>\n",
       "      <td>1</td>\n",
       "    </tr>\n",
       "    <tr>\n",
       "      <th>1</th>\n",
       "      <td>0</td>\n",
       "      <td>0</td>\n",
       "      <td>0</td>\n",
       "      <td>0</td>\n",
       "      <td>0</td>\n",
       "      <td>1</td>\n",
       "      <td>0</td>\n",
       "    </tr>\n",
       "  </tbody>\n",
       "</table>\n",
       "</div>"
      ],
      "text/plain": [
       "   get lunch today  go get lunch  hey hey hey  hey hey lets  hey lets go  \\\n",
       "0                1             1            1             1            1   \n",
       "1                0             0            0             0            0   \n",
       "\n",
       "   hey need favor  lets go get  \n",
       "0               0            1  \n",
       "1               1            0  "
      ]
     },
     "execution_count": 49,
     "metadata": {},
     "output_type": "execute_result"
    }
   ],
   "source": [
    "# look at trigrams\n",
    "vect = CountVectorizer(ngram_range=(3,3))\n",
    "dtm = vect.fit_transform(messages)\n",
    "pd.DataFrame(dtm.toarray(), columns=vect.get_feature_names())"
   ]
  },
  {
   "cell_type": "code",
   "execution_count": 50,
   "metadata": {
    "scrolled": true
   },
   "outputs": [
    {
     "data": {
      "text/html": [
       "<div>\n",
       "<table border=\"1\" class=\"dataframe\">\n",
       "  <thead>\n",
       "    <tr style=\"text-align: right;\">\n",
       "      <th></th>\n",
       "      <th>favor</th>\n",
       "      <th>get</th>\n",
       "      <th>get lunch</th>\n",
       "      <th>get lunch today</th>\n",
       "      <th>go</th>\n",
       "      <th>go get</th>\n",
       "      <th>go get lunch</th>\n",
       "      <th>hey</th>\n",
       "      <th>hey hey</th>\n",
       "      <th>hey hey hey</th>\n",
       "      <th>...</th>\n",
       "      <th>hey need</th>\n",
       "      <th>hey need favor</th>\n",
       "      <th>lets</th>\n",
       "      <th>lets go</th>\n",
       "      <th>lets go get</th>\n",
       "      <th>lunch</th>\n",
       "      <th>lunch today</th>\n",
       "      <th>need</th>\n",
       "      <th>need favor</th>\n",
       "      <th>today</th>\n",
       "    </tr>\n",
       "  </thead>\n",
       "  <tbody>\n",
       "    <tr>\n",
       "      <th>0</th>\n",
       "      <td>0</td>\n",
       "      <td>1</td>\n",
       "      <td>1</td>\n",
       "      <td>1</td>\n",
       "      <td>1</td>\n",
       "      <td>1</td>\n",
       "      <td>1</td>\n",
       "      <td>3</td>\n",
       "      <td>2</td>\n",
       "      <td>1</td>\n",
       "      <td>...</td>\n",
       "      <td>0</td>\n",
       "      <td>0</td>\n",
       "      <td>1</td>\n",
       "      <td>1</td>\n",
       "      <td>1</td>\n",
       "      <td>1</td>\n",
       "      <td>1</td>\n",
       "      <td>0</td>\n",
       "      <td>0</td>\n",
       "      <td>1</td>\n",
       "    </tr>\n",
       "    <tr>\n",
       "      <th>1</th>\n",
       "      <td>1</td>\n",
       "      <td>0</td>\n",
       "      <td>0</td>\n",
       "      <td>0</td>\n",
       "      <td>0</td>\n",
       "      <td>0</td>\n",
       "      <td>0</td>\n",
       "      <td>1</td>\n",
       "      <td>0</td>\n",
       "      <td>0</td>\n",
       "      <td>...</td>\n",
       "      <td>1</td>\n",
       "      <td>1</td>\n",
       "      <td>0</td>\n",
       "      <td>0</td>\n",
       "      <td>0</td>\n",
       "      <td>0</td>\n",
       "      <td>0</td>\n",
       "      <td>1</td>\n",
       "      <td>1</td>\n",
       "      <td>0</td>\n",
       "    </tr>\n",
       "  </tbody>\n",
       "</table>\n",
       "<p>2 rows × 23 columns</p>\n",
       "</div>"
      ],
      "text/plain": [
       "   favor  get  get lunch  get lunch today  go  go get  go get lunch  hey  \\\n",
       "0      0    1          1                1   1       1             1    3   \n",
       "1      1    0          0                0   0       0             0    1   \n",
       "\n",
       "   hey hey  hey hey hey  ...    hey need  hey need favor  lets  lets go  \\\n",
       "0        2            1  ...           0               0     1        1   \n",
       "1        0            0  ...           1               1     0        0   \n",
       "\n",
       "   lets go get  lunch  lunch today  need  need favor  today  \n",
       "0            1      1            1     0           0      1  \n",
       "1            0      0            0     1           1      0  \n",
       "\n",
       "[2 rows x 23 columns]"
      ]
     },
     "execution_count": 50,
     "metadata": {},
     "output_type": "execute_result"
    }
   ],
   "source": [
    "# looking at unigrams, bigrams, and trigrams\n",
    "vect = CountVectorizer(ngram_range=(1,3))\n",
    "dtm = vect.fit_transform(messages)\n",
    "pd.DataFrame(dtm.toarray(), columns=vect.get_feature_names())"
   ]
  },
  {
   "cell_type": "code",
   "execution_count": 52,
   "metadata": {},
   "outputs": [
    {
     "data": {
      "text/html": [
       "<div>\n",
       "<table border=\"1\" class=\"dataframe\">\n",
       "  <thead>\n",
       "    <tr style=\"text-align: right;\">\n",
       "      <th></th>\n",
       "      <th>get lunch</th>\n",
       "      <th>go get</th>\n",
       "      <th>hey hey</th>\n",
       "      <th>hey lets</th>\n",
       "      <th>hey need</th>\n",
       "      <th>lets go</th>\n",
       "      <th>lunch today</th>\n",
       "      <th>need favor</th>\n",
       "    </tr>\n",
       "  </thead>\n",
       "  <tbody>\n",
       "    <tr>\n",
       "      <th>0</th>\n",
       "      <td>0.333333</td>\n",
       "      <td>0.333333</td>\n",
       "      <td>0.666667</td>\n",
       "      <td>0.333333</td>\n",
       "      <td>0.000000</td>\n",
       "      <td>0.333333</td>\n",
       "      <td>0.333333</td>\n",
       "      <td>0.000000</td>\n",
       "    </tr>\n",
       "    <tr>\n",
       "      <th>1</th>\n",
       "      <td>0.000000</td>\n",
       "      <td>0.000000</td>\n",
       "      <td>0.000000</td>\n",
       "      <td>0.000000</td>\n",
       "      <td>0.707107</td>\n",
       "      <td>0.000000</td>\n",
       "      <td>0.000000</td>\n",
       "      <td>0.707107</td>\n",
       "    </tr>\n",
       "  </tbody>\n",
       "</table>\n",
       "</div>"
      ],
      "text/plain": [
       "   get lunch    go get   hey hey  hey lets  hey need   lets go  lunch today  \\\n",
       "0   0.333333  0.333333  0.666667  0.333333  0.000000  0.333333     0.333333   \n",
       "1   0.000000  0.000000  0.000000  0.000000  0.707107  0.000000     0.000000   \n",
       "\n",
       "   need favor  \n",
       "0    0.000000  \n",
       "1    0.707107  "
      ]
     },
     "execution_count": 52,
     "metadata": {},
     "output_type": "execute_result"
    }
   ],
   "source": [
    "# Can also use with tf-idf\n",
    "vect = TfidfVectorizer(ngram_range=(2,2))\n",
    "dtm = vect.fit_transform(messages)\n",
    "pd.DataFrame(dtm.toarray(), columns=vect.get_feature_names())"
   ]
  },
  {
   "cell_type": "code",
   "execution_count": 61,
   "metadata": {},
   "outputs": [
    {
     "name": "stdout",
     "output_type": "stream",
     "text": [
      "frozenset({'much', 'found', 'her', 'they', 'too', 'only', 'on', 'get', 'out', 'along', 'such', 'then', 'keep', 'formerly', 'through', 'thereby', 'had', 'which', 'all', 'etc', 'again', 'until', 'beside', 'full', 'cant', 'own', 'them', 'empty', 'will', 'in', 'be', 'is', 'further', 'go', 'elsewhere', 'indeed', 'most', 'would', 'herself', 'everywhere', 'below', 'thence', 'five', 'me', 'since', 'am', 'nowhere', 'few', 'alone', 'back', 'take', 'up', 'whoever', 'else', 'whereafter', 'hers', 'less', 'for', 'whence', 'besides', 'none', 'something', 'twenty', 'amongst', 'at', 'during', 'many', 'nine', 'hence', 'have', 'can', 'between', 'itself', 'least', 'someone', 'whatever', 'de', 'yourself', 'eleven', 'its', 'off', 'system', 'put', 'after', 'noone', 'some', 'hereby', 'this', 'thereupon', 'no', 'there', 'because', 'seemed', 'themselves', 'beforehand', 'forty', 'though', 'could', 'very', 'another', 'call', 'whereupon', 'whose', 'couldnt', 'now', 'ie', 'myself', 'amount', 'done', 'fill', 'how', 'always', 'everyone', 'thick', 'together', 'mine', 'toward', 'upon', 'fifteen', 'thru', 'whereas', 'side', 'fire', 'often', 'hereupon', 'down', 'whom', 'thin', 'became', 'not', 'ourselves', 'so', 'neither', 'however', 'where', 'seems', 'whither', 'across', 'four', 'afterwards', 'any', 'towards', 'an', 'seeming', 'onto', 'give', 'one', 'describe', 'mill', 'been', 'due', 'three', 're', 'twelve', 'what', 'whether', 'sometime', 'co', 'part', 'wherever', 'around', 'namely', 'yourselves', 'might', 'it', 'behind', 'inc', 'somewhere', 'un', 'was', 'above', 'interest', 'we', 'who', 'may', 'ten', 'my', 'sincere', 'rather', 'bill', 'by', 'your', 'please', 'hundred', 'well', 'than', 'never', 'anyhow', 'same', 'these', 'he', 'sixty', 'him', 'with', 'nothing', 'why', 'yours', 'among', 'and', 'wherein', 'latterly', 'fifty', 'already', 'via', 'last', 'against', 'hasnt', 'next', 'his', 'see', 'also', 'hereafter', 'nevertheless', 'should', 'six', 'a', 'being', 'seem', 'each', 'into', 'show', 'or', 'somehow', 'thereafter', 'former', 'per', 'even', 'front', 'cry', 'throughout', 'do', 'two', 'our', 'eg', 'still', 'every', 'ours', 'i', 'several', 'himself', 'perhaps', 'whereby', 'detail', 'everything', 'that', 'anything', 'here', 'their', 'eight', 'either', 'cannot', 'sometimes', 'made', 'top', 'name', 'were', 'beyond', 'while', 'ever', 'meanwhile', 'amoungst', 'whole', 'almost', 'once', 'from', 'nor', 'other', 'are', 'the', 'anywhere', 'except', 'therein', 'although', 'herein', 'become', 'therefore', 'anyone', 'more', 'thus', 'first', 'when', 'enough', 'you', 'but', 'without', 'both', 'if', 'must', 'to', 'us', 'about', 'move', 'of', 'bottom', 'as', 'con', 'latter', 'she', 'becomes', 'those', 'whenever', 'serious', 'yet', 'nobody', 'ltd', 'moreover', 'under', 'find', 'over', 'others', 'anyway', 'within', 'becoming', 'has', 'third', 'otherwise', 'before', 'mostly'})\n"
     ]
    }
   ],
   "source": [
    "vect = CountVectorizer(stop_words='english')\n",
    "print(vect.get_stop_words())"
   ]
  },
  {
   "cell_type": "code",
   "execution_count": 59,
   "metadata": {},
   "outputs": [
    {
     "data": {
      "text/plain": [
       "frozenset({'cedarville', 'linguistics', 'python'})"
      ]
     },
     "execution_count": 59,
     "metadata": {},
     "output_type": "execute_result"
    }
   ],
   "source": [
    "# defining our own stopwords\n",
    "my_words = ['cedarville','linguistics','python']\n",
    "vect = CountVectorizer(stop_words=my_words)\n",
    "vect.get_stop_words()"
   ]
  },
  {
   "cell_type": "markdown",
   "metadata": {},
   "source": [
    "Word Stemming\n",
    "* reduces a word down to its base/root form\n",
    "* crude heuristic that works by chopping off end of word"
   ]
  },
  {
   "cell_type": "code",
   "execution_count": 65,
   "metadata": {
    "collapsed": true
   },
   "outputs": [],
   "source": [
    "from nltk.stem.porter import PorterStemmer\n",
    "stemmer = PorterStemmer()\n",
    "tokens = ['linguistics','linguist','lingua']"
   ]
  },
  {
   "cell_type": "code",
   "execution_count": 66,
   "metadata": {},
   "outputs": [
    {
     "name": "stdout",
     "output_type": "stream",
     "text": [
      "['linguist', 'linguist', 'lingua']\n"
     ]
    }
   ],
   "source": [
    "stems = [stemmer.stem(i) for i in tokens]\n",
    "print(stems)"
   ]
  },
  {
   "cell_type": "markdown",
   "metadata": {},
   "source": [
    "Word Lemmatization\n",
    "* similar to stemming\n",
    "* seeks to find base dictionary form\n",
    "* more complex, may need to specify part of speech for accurate results"
   ]
  },
  {
   "cell_type": "code",
   "execution_count": 67,
   "metadata": {
    "collapsed": true
   },
   "outputs": [],
   "source": [
    "from nltk import WordNetLemmatizer\n",
    "lemmer = WordNetLemmatizer()\n",
    "tokens = ['hands','women']"
   ]
  },
  {
   "cell_type": "code",
   "execution_count": 69,
   "metadata": {},
   "outputs": [
    {
     "data": {
      "text/plain": [
       "['hand', 'woman']"
      ]
     },
     "execution_count": 69,
     "metadata": {},
     "output_type": "execute_result"
    }
   ],
   "source": [
    "lemmas = [lemmer.lemmatize(i) for i in tokens]\n",
    "lemmas"
   ]
  },
  {
   "cell_type": "code",
   "execution_count": 73,
   "metadata": {},
   "outputs": [
    {
     "data": {
      "text/plain": [
       "'manufacturing'"
      ]
     },
     "execution_count": 73,
     "metadata": {},
     "output_type": "execute_result"
    }
   ],
   "source": [
    "lemmer.lemmatize('manufacturing')"
   ]
  },
  {
   "cell_type": "code",
   "execution_count": 74,
   "metadata": {},
   "outputs": [
    {
     "data": {
      "text/plain": [
       "'manufacture'"
      ]
     },
     "execution_count": 74,
     "metadata": {},
     "output_type": "execute_result"
    }
   ],
   "source": [
    "# specify it as a verb, default is noun\n",
    "lemmer.lemmatize('manufacturing','v')"
   ]
  },
  {
   "cell_type": "code",
   "execution_count": null,
   "metadata": {},
   "outputs": [],
   "source": []
  }
 ],
 "metadata": {
  "anaconda-cloud": {},
  "kernelspec": {
   "display_name": "Python 3",
   "language": "python",
   "name": "python3"
  },
  "language_info": {
   "codemirror_mode": {
    "name": "ipython",
    "version": 3
   },
   "file_extension": ".py",
   "mimetype": "text/x-python",
   "name": "python",
   "nbconvert_exporter": "python",
   "pygments_lexer": "ipython3",
   "version": "3.6.5"
  }
 },
 "nbformat": 4,
 "nbformat_minor": 2
}
